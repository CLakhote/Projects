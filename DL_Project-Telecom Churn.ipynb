{
  "nbformat": 4,
  "nbformat_minor": 0,
  "metadata": {
    "colab": {
      "name": "DL-Project.ipynb",
      "provenance": [],
      "collapsed_sections": []
    },
    "kernelspec": {
      "name": "python3",
      "display_name": "Python 3"
    },
    "language_info": {
      "name": "python"
    }
  },
  "cells": [
    {
      "cell_type": "code",
      "metadata": {
        "id": "Tv8x1sgEc8gf"
      },
      "source": [
        "import pandas as pd\n",
        "import numpy as np\n",
        "import matplotlib.pyplot as plt\n",
        "import tensorflow as tf"
      ],
      "execution_count": 1,
      "outputs": []
    },
    {
      "cell_type": "code",
      "metadata": {
        "id": "OHvLRoL_JIGW"
      },
      "source": [
        "#load dataset\n",
        "df=pd.read_csv('/content/drive/MyDrive/GoogleColab/telecom_churn.csv')"
      ],
      "execution_count": 2,
      "outputs": []
    },
    {
      "cell_type": "code",
      "metadata": {
        "colab": {
          "base_uri": "https://localhost:8080/",
          "height": 309
        },
        "id": "FM1j00gKJw2x",
        "outputId": "779ab653-f9bd-4eae-82c2-0bf4b9cfe976"
      },
      "source": [
        "#first 5 records\n",
        "df.head()"
      ],
      "execution_count": 3,
      "outputs": [
        {
          "output_type": "execute_result",
          "data": {
            "text/html": [
              "<div>\n",
              "<style scoped>\n",
              "    .dataframe tbody tr th:only-of-type {\n",
              "        vertical-align: middle;\n",
              "    }\n",
              "\n",
              "    .dataframe tbody tr th {\n",
              "        vertical-align: top;\n",
              "    }\n",
              "\n",
              "    .dataframe thead th {\n",
              "        text-align: right;\n",
              "    }\n",
              "</style>\n",
              "<table border=\"1\" class=\"dataframe\">\n",
              "  <thead>\n",
              "    <tr style=\"text-align: right;\">\n",
              "      <th></th>\n",
              "      <th>customerID</th>\n",
              "      <th>gender</th>\n",
              "      <th>SeniorCitizen</th>\n",
              "      <th>Partner</th>\n",
              "      <th>Dependents</th>\n",
              "      <th>tenure</th>\n",
              "      <th>PhoneService</th>\n",
              "      <th>MultipleLines</th>\n",
              "      <th>InternetService</th>\n",
              "      <th>OnlineSecurity</th>\n",
              "      <th>OnlineBackup</th>\n",
              "      <th>DeviceProtection</th>\n",
              "      <th>TechSupport</th>\n",
              "      <th>StreamingTV</th>\n",
              "      <th>StreamingMovies</th>\n",
              "      <th>Contract</th>\n",
              "      <th>PaperlessBilling</th>\n",
              "      <th>PaymentMethod</th>\n",
              "      <th>MonthlyCharges</th>\n",
              "      <th>TotalCharges</th>\n",
              "      <th>Churn</th>\n",
              "    </tr>\n",
              "  </thead>\n",
              "  <tbody>\n",
              "    <tr>\n",
              "      <th>0</th>\n",
              "      <td>7590-VHVEG</td>\n",
              "      <td>Female</td>\n",
              "      <td>0</td>\n",
              "      <td>Yes</td>\n",
              "      <td>No</td>\n",
              "      <td>1</td>\n",
              "      <td>No</td>\n",
              "      <td>No phone service</td>\n",
              "      <td>DSL</td>\n",
              "      <td>No</td>\n",
              "      <td>Yes</td>\n",
              "      <td>No</td>\n",
              "      <td>No</td>\n",
              "      <td>No</td>\n",
              "      <td>No</td>\n",
              "      <td>Month-to-month</td>\n",
              "      <td>Yes</td>\n",
              "      <td>Electronic check</td>\n",
              "      <td>29.85</td>\n",
              "      <td>29.85</td>\n",
              "      <td>No</td>\n",
              "    </tr>\n",
              "    <tr>\n",
              "      <th>1</th>\n",
              "      <td>5575-GNVDE</td>\n",
              "      <td>Male</td>\n",
              "      <td>0</td>\n",
              "      <td>No</td>\n",
              "      <td>No</td>\n",
              "      <td>34</td>\n",
              "      <td>Yes</td>\n",
              "      <td>No</td>\n",
              "      <td>DSL</td>\n",
              "      <td>Yes</td>\n",
              "      <td>No</td>\n",
              "      <td>Yes</td>\n",
              "      <td>No</td>\n",
              "      <td>No</td>\n",
              "      <td>No</td>\n",
              "      <td>One year</td>\n",
              "      <td>No</td>\n",
              "      <td>Mailed check</td>\n",
              "      <td>56.95</td>\n",
              "      <td>1889.5</td>\n",
              "      <td>No</td>\n",
              "    </tr>\n",
              "    <tr>\n",
              "      <th>2</th>\n",
              "      <td>3668-QPYBK</td>\n",
              "      <td>Male</td>\n",
              "      <td>0</td>\n",
              "      <td>No</td>\n",
              "      <td>No</td>\n",
              "      <td>2</td>\n",
              "      <td>Yes</td>\n",
              "      <td>No</td>\n",
              "      <td>DSL</td>\n",
              "      <td>Yes</td>\n",
              "      <td>Yes</td>\n",
              "      <td>No</td>\n",
              "      <td>No</td>\n",
              "      <td>No</td>\n",
              "      <td>No</td>\n",
              "      <td>Month-to-month</td>\n",
              "      <td>Yes</td>\n",
              "      <td>Mailed check</td>\n",
              "      <td>53.85</td>\n",
              "      <td>108.15</td>\n",
              "      <td>Yes</td>\n",
              "    </tr>\n",
              "    <tr>\n",
              "      <th>3</th>\n",
              "      <td>7795-CFOCW</td>\n",
              "      <td>Male</td>\n",
              "      <td>0</td>\n",
              "      <td>No</td>\n",
              "      <td>No</td>\n",
              "      <td>45</td>\n",
              "      <td>No</td>\n",
              "      <td>No phone service</td>\n",
              "      <td>DSL</td>\n",
              "      <td>Yes</td>\n",
              "      <td>No</td>\n",
              "      <td>Yes</td>\n",
              "      <td>Yes</td>\n",
              "      <td>No</td>\n",
              "      <td>No</td>\n",
              "      <td>One year</td>\n",
              "      <td>No</td>\n",
              "      <td>Bank transfer (automatic)</td>\n",
              "      <td>42.30</td>\n",
              "      <td>1840.75</td>\n",
              "      <td>No</td>\n",
              "    </tr>\n",
              "    <tr>\n",
              "      <th>4</th>\n",
              "      <td>9237-HQITU</td>\n",
              "      <td>Female</td>\n",
              "      <td>0</td>\n",
              "      <td>No</td>\n",
              "      <td>No</td>\n",
              "      <td>2</td>\n",
              "      <td>Yes</td>\n",
              "      <td>No</td>\n",
              "      <td>Fiber optic</td>\n",
              "      <td>No</td>\n",
              "      <td>No</td>\n",
              "      <td>No</td>\n",
              "      <td>No</td>\n",
              "      <td>No</td>\n",
              "      <td>No</td>\n",
              "      <td>Month-to-month</td>\n",
              "      <td>Yes</td>\n",
              "      <td>Electronic check</td>\n",
              "      <td>70.70</td>\n",
              "      <td>151.65</td>\n",
              "      <td>Yes</td>\n",
              "    </tr>\n",
              "  </tbody>\n",
              "</table>\n",
              "</div>"
            ],
            "text/plain": [
              "   customerID  gender  SeniorCitizen  ... MonthlyCharges TotalCharges  Churn\n",
              "0  7590-VHVEG  Female              0  ...          29.85        29.85     No\n",
              "1  5575-GNVDE    Male              0  ...          56.95       1889.5     No\n",
              "2  3668-QPYBK    Male              0  ...          53.85       108.15    Yes\n",
              "3  7795-CFOCW    Male              0  ...          42.30      1840.75     No\n",
              "4  9237-HQITU  Female              0  ...          70.70       151.65    Yes\n",
              "\n",
              "[5 rows x 21 columns]"
            ]
          },
          "metadata": {
            "tags": []
          },
          "execution_count": 3
        }
      ]
    },
    {
      "cell_type": "code",
      "metadata": {
        "colab": {
          "base_uri": "https://localhost:8080/"
        },
        "id": "fnyOHUjXJ31B",
        "outputId": "52078d26-5d64-441b-e2bf-421d58a390e7"
      },
      "source": [
        "#check null values in our dataset\n",
        "df.isnull().sum()"
      ],
      "execution_count": 4,
      "outputs": [
        {
          "output_type": "execute_result",
          "data": {
            "text/plain": [
              "customerID          0\n",
              "gender              0\n",
              "SeniorCitizen       0\n",
              "Partner             0\n",
              "Dependents          0\n",
              "tenure              0\n",
              "PhoneService        0\n",
              "MultipleLines       0\n",
              "InternetService     0\n",
              "OnlineSecurity      0\n",
              "OnlineBackup        0\n",
              "DeviceProtection    0\n",
              "TechSupport         0\n",
              "StreamingTV         0\n",
              "StreamingMovies     0\n",
              "Contract            0\n",
              "PaperlessBilling    0\n",
              "PaymentMethod       0\n",
              "MonthlyCharges      0\n",
              "TotalCharges        0\n",
              "Churn               0\n",
              "dtype: int64"
            ]
          },
          "metadata": {
            "tags": []
          },
          "execution_count": 4
        }
      ]
    },
    {
      "cell_type": "code",
      "metadata": {
        "colab": {
          "base_uri": "https://localhost:8080/"
        },
        "id": "_It1rvPDJ__0",
        "outputId": "89c6370c-55eb-470e-be6f-d64e2e9f4750"
      },
      "source": [
        "df.info()"
      ],
      "execution_count": 5,
      "outputs": [
        {
          "output_type": "stream",
          "text": [
            "<class 'pandas.core.frame.DataFrame'>\n",
            "RangeIndex: 7043 entries, 0 to 7042\n",
            "Data columns (total 21 columns):\n",
            " #   Column            Non-Null Count  Dtype  \n",
            "---  ------            --------------  -----  \n",
            " 0   customerID        7043 non-null   object \n",
            " 1   gender            7043 non-null   object \n",
            " 2   SeniorCitizen     7043 non-null   int64  \n",
            " 3   Partner           7043 non-null   object \n",
            " 4   Dependents        7043 non-null   object \n",
            " 5   tenure            7043 non-null   int64  \n",
            " 6   PhoneService      7043 non-null   object \n",
            " 7   MultipleLines     7043 non-null   object \n",
            " 8   InternetService   7043 non-null   object \n",
            " 9   OnlineSecurity    7043 non-null   object \n",
            " 10  OnlineBackup      7043 non-null   object \n",
            " 11  DeviceProtection  7043 non-null   object \n",
            " 12  TechSupport       7043 non-null   object \n",
            " 13  StreamingTV       7043 non-null   object \n",
            " 14  StreamingMovies   7043 non-null   object \n",
            " 15  Contract          7043 non-null   object \n",
            " 16  PaperlessBilling  7043 non-null   object \n",
            " 17  PaymentMethod     7043 non-null   object \n",
            " 18  MonthlyCharges    7043 non-null   float64\n",
            " 19  TotalCharges      7043 non-null   object \n",
            " 20  Churn             7043 non-null   object \n",
            "dtypes: float64(1), int64(2), object(18)\n",
            "memory usage: 1.1+ MB\n"
          ],
          "name": "stdout"
        }
      ]
    },
    {
      "cell_type": "code",
      "metadata": {
        "colab": {
          "base_uri": "https://localhost:8080/"
        },
        "id": "lL8H1YD4KLAL",
        "outputId": "9eb5943a-74ee-424b-b9e2-d09d34d4b3df"
      },
      "source": [
        "df[\"TotalCharges\"].value_counts()"
      ],
      "execution_count": 6,
      "outputs": [
        {
          "output_type": "execute_result",
          "data": {
            "text/plain": [
              "           11\n",
              "20.2       11\n",
              "19.75       9\n",
              "20.05       8\n",
              "19.65       8\n",
              "           ..\n",
              "188.1       1\n",
              "424.15      1\n",
              "1978.65     1\n",
              "6148.45     1\n",
              "2680.15     1\n",
              "Name: TotalCharges, Length: 6531, dtype: int64"
            ]
          },
          "metadata": {
            "tags": []
          },
          "execution_count": 6
        }
      ]
    },
    {
      "cell_type": "code",
      "metadata": {
        "id": "VUGg2Od8KRDf"
      },
      "source": [
        "#replace space with null values in TotalCharges column  permanently\n",
        "df[\"TotalCharges\"].replace(\" \",np.nan,inplace=True)  "
      ],
      "execution_count": 7,
      "outputs": []
    },
    {
      "cell_type": "code",
      "metadata": {
        "colab": {
          "base_uri": "https://localhost:8080/"
        },
        "id": "LOFg_WzRKdwh",
        "outputId": "121de642-6120-474f-9ed1-c8e9917d7184"
      },
      "source": [
        "df.isnull().sum() #check null values"
      ],
      "execution_count": 8,
      "outputs": [
        {
          "output_type": "execute_result",
          "data": {
            "text/plain": [
              "customerID           0\n",
              "gender               0\n",
              "SeniorCitizen        0\n",
              "Partner              0\n",
              "Dependents           0\n",
              "tenure               0\n",
              "PhoneService         0\n",
              "MultipleLines        0\n",
              "InternetService      0\n",
              "OnlineSecurity       0\n",
              "OnlineBackup         0\n",
              "DeviceProtection     0\n",
              "TechSupport          0\n",
              "StreamingTV          0\n",
              "StreamingMovies      0\n",
              "Contract             0\n",
              "PaperlessBilling     0\n",
              "PaymentMethod        0\n",
              "MonthlyCharges       0\n",
              "TotalCharges        11\n",
              "Churn                0\n",
              "dtype: int64"
            ]
          },
          "metadata": {
            "tags": []
          },
          "execution_count": 8
        }
      ]
    },
    {
      "cell_type": "code",
      "metadata": {
        "id": "IWQH4NVuKkma"
      },
      "source": [
        "#to change the datatype of TotalCharges column in float \n",
        "df[\"TotalCharges\"]=df[\"TotalCharges\"].astype(\"float\")"
      ],
      "execution_count": 9,
      "outputs": []
    },
    {
      "cell_type": "code",
      "metadata": {
        "colab": {
          "base_uri": "https://localhost:8080/"
        },
        "id": "8F0-VoMTKpQj",
        "outputId": "621db5af-e41b-443b-c701-97a5e0c144fc"
      },
      "source": [
        "#check % of null values of TotalCharges  column\n",
        "df[\"TotalCharges\"].isnull().sum()/df.shape[0]*100"
      ],
      "execution_count": 10,
      "outputs": [
        {
          "output_type": "execute_result",
          "data": {
            "text/plain": [
              "0.1561834445548772"
            ]
          },
          "metadata": {
            "tags": []
          },
          "execution_count": 10
        }
      ]
    },
    {
      "cell_type": "code",
      "metadata": {
        "id": "lQ0jhjFoKxBv"
      },
      "source": [
        "#fill of null values of TotalCharges column with help of mean or median\n",
        "#permanently \n",
        "df['TotalCharges'].fillna(df['TotalCharges'].mean(),inplace=True)"
      ],
      "execution_count": 11,
      "outputs": []
    },
    {
      "cell_type": "code",
      "metadata": {
        "colab": {
          "base_uri": "https://localhost:8080/"
        },
        "id": "C9wm066DK0y1",
        "outputId": "35a5ac19-36d4-4a42-f9ee-6e3adb607c75"
      },
      "source": [
        "df.isnull().sum()"
      ],
      "execution_count": 12,
      "outputs": [
        {
          "output_type": "execute_result",
          "data": {
            "text/plain": [
              "customerID          0\n",
              "gender              0\n",
              "SeniorCitizen       0\n",
              "Partner             0\n",
              "Dependents          0\n",
              "tenure              0\n",
              "PhoneService        0\n",
              "MultipleLines       0\n",
              "InternetService     0\n",
              "OnlineSecurity      0\n",
              "OnlineBackup        0\n",
              "DeviceProtection    0\n",
              "TechSupport         0\n",
              "StreamingTV         0\n",
              "StreamingMovies     0\n",
              "Contract            0\n",
              "PaperlessBilling    0\n",
              "PaymentMethod       0\n",
              "MonthlyCharges      0\n",
              "TotalCharges        0\n",
              "Churn               0\n",
              "dtype: int64"
            ]
          },
          "metadata": {
            "tags": []
          },
          "execution_count": 12
        }
      ]
    },
    {
      "cell_type": "code",
      "metadata": {
        "colab": {
          "base_uri": "https://localhost:8080/",
          "height": 309
        },
        "id": "1at6SFtWK4UW",
        "outputId": "ed640d8c-596e-43ef-b097-8f2154cf8b66"
      },
      "source": [
        "df.head()"
      ],
      "execution_count": 13,
      "outputs": [
        {
          "output_type": "execute_result",
          "data": {
            "text/html": [
              "<div>\n",
              "<style scoped>\n",
              "    .dataframe tbody tr th:only-of-type {\n",
              "        vertical-align: middle;\n",
              "    }\n",
              "\n",
              "    .dataframe tbody tr th {\n",
              "        vertical-align: top;\n",
              "    }\n",
              "\n",
              "    .dataframe thead th {\n",
              "        text-align: right;\n",
              "    }\n",
              "</style>\n",
              "<table border=\"1\" class=\"dataframe\">\n",
              "  <thead>\n",
              "    <tr style=\"text-align: right;\">\n",
              "      <th></th>\n",
              "      <th>customerID</th>\n",
              "      <th>gender</th>\n",
              "      <th>SeniorCitizen</th>\n",
              "      <th>Partner</th>\n",
              "      <th>Dependents</th>\n",
              "      <th>tenure</th>\n",
              "      <th>PhoneService</th>\n",
              "      <th>MultipleLines</th>\n",
              "      <th>InternetService</th>\n",
              "      <th>OnlineSecurity</th>\n",
              "      <th>OnlineBackup</th>\n",
              "      <th>DeviceProtection</th>\n",
              "      <th>TechSupport</th>\n",
              "      <th>StreamingTV</th>\n",
              "      <th>StreamingMovies</th>\n",
              "      <th>Contract</th>\n",
              "      <th>PaperlessBilling</th>\n",
              "      <th>PaymentMethod</th>\n",
              "      <th>MonthlyCharges</th>\n",
              "      <th>TotalCharges</th>\n",
              "      <th>Churn</th>\n",
              "    </tr>\n",
              "  </thead>\n",
              "  <tbody>\n",
              "    <tr>\n",
              "      <th>0</th>\n",
              "      <td>7590-VHVEG</td>\n",
              "      <td>Female</td>\n",
              "      <td>0</td>\n",
              "      <td>Yes</td>\n",
              "      <td>No</td>\n",
              "      <td>1</td>\n",
              "      <td>No</td>\n",
              "      <td>No phone service</td>\n",
              "      <td>DSL</td>\n",
              "      <td>No</td>\n",
              "      <td>Yes</td>\n",
              "      <td>No</td>\n",
              "      <td>No</td>\n",
              "      <td>No</td>\n",
              "      <td>No</td>\n",
              "      <td>Month-to-month</td>\n",
              "      <td>Yes</td>\n",
              "      <td>Electronic check</td>\n",
              "      <td>29.85</td>\n",
              "      <td>29.85</td>\n",
              "      <td>No</td>\n",
              "    </tr>\n",
              "    <tr>\n",
              "      <th>1</th>\n",
              "      <td>5575-GNVDE</td>\n",
              "      <td>Male</td>\n",
              "      <td>0</td>\n",
              "      <td>No</td>\n",
              "      <td>No</td>\n",
              "      <td>34</td>\n",
              "      <td>Yes</td>\n",
              "      <td>No</td>\n",
              "      <td>DSL</td>\n",
              "      <td>Yes</td>\n",
              "      <td>No</td>\n",
              "      <td>Yes</td>\n",
              "      <td>No</td>\n",
              "      <td>No</td>\n",
              "      <td>No</td>\n",
              "      <td>One year</td>\n",
              "      <td>No</td>\n",
              "      <td>Mailed check</td>\n",
              "      <td>56.95</td>\n",
              "      <td>1889.50</td>\n",
              "      <td>No</td>\n",
              "    </tr>\n",
              "    <tr>\n",
              "      <th>2</th>\n",
              "      <td>3668-QPYBK</td>\n",
              "      <td>Male</td>\n",
              "      <td>0</td>\n",
              "      <td>No</td>\n",
              "      <td>No</td>\n",
              "      <td>2</td>\n",
              "      <td>Yes</td>\n",
              "      <td>No</td>\n",
              "      <td>DSL</td>\n",
              "      <td>Yes</td>\n",
              "      <td>Yes</td>\n",
              "      <td>No</td>\n",
              "      <td>No</td>\n",
              "      <td>No</td>\n",
              "      <td>No</td>\n",
              "      <td>Month-to-month</td>\n",
              "      <td>Yes</td>\n",
              "      <td>Mailed check</td>\n",
              "      <td>53.85</td>\n",
              "      <td>108.15</td>\n",
              "      <td>Yes</td>\n",
              "    </tr>\n",
              "    <tr>\n",
              "      <th>3</th>\n",
              "      <td>7795-CFOCW</td>\n",
              "      <td>Male</td>\n",
              "      <td>0</td>\n",
              "      <td>No</td>\n",
              "      <td>No</td>\n",
              "      <td>45</td>\n",
              "      <td>No</td>\n",
              "      <td>No phone service</td>\n",
              "      <td>DSL</td>\n",
              "      <td>Yes</td>\n",
              "      <td>No</td>\n",
              "      <td>Yes</td>\n",
              "      <td>Yes</td>\n",
              "      <td>No</td>\n",
              "      <td>No</td>\n",
              "      <td>One year</td>\n",
              "      <td>No</td>\n",
              "      <td>Bank transfer (automatic)</td>\n",
              "      <td>42.30</td>\n",
              "      <td>1840.75</td>\n",
              "      <td>No</td>\n",
              "    </tr>\n",
              "    <tr>\n",
              "      <th>4</th>\n",
              "      <td>9237-HQITU</td>\n",
              "      <td>Female</td>\n",
              "      <td>0</td>\n",
              "      <td>No</td>\n",
              "      <td>No</td>\n",
              "      <td>2</td>\n",
              "      <td>Yes</td>\n",
              "      <td>No</td>\n",
              "      <td>Fiber optic</td>\n",
              "      <td>No</td>\n",
              "      <td>No</td>\n",
              "      <td>No</td>\n",
              "      <td>No</td>\n",
              "      <td>No</td>\n",
              "      <td>No</td>\n",
              "      <td>Month-to-month</td>\n",
              "      <td>Yes</td>\n",
              "      <td>Electronic check</td>\n",
              "      <td>70.70</td>\n",
              "      <td>151.65</td>\n",
              "      <td>Yes</td>\n",
              "    </tr>\n",
              "  </tbody>\n",
              "</table>\n",
              "</div>"
            ],
            "text/plain": [
              "   customerID  gender  SeniorCitizen  ... MonthlyCharges TotalCharges  Churn\n",
              "0  7590-VHVEG  Female              0  ...          29.85        29.85     No\n",
              "1  5575-GNVDE    Male              0  ...          56.95      1889.50     No\n",
              "2  3668-QPYBK    Male              0  ...          53.85       108.15    Yes\n",
              "3  7795-CFOCW    Male              0  ...          42.30      1840.75     No\n",
              "4  9237-HQITU  Female              0  ...          70.70       151.65    Yes\n",
              "\n",
              "[5 rows x 21 columns]"
            ]
          },
          "metadata": {
            "tags": []
          },
          "execution_count": 13
        }
      ]
    },
    {
      "cell_type": "code",
      "metadata": {
        "id": "8u8LPlhNK7xo"
      },
      "source": [
        "#Remove unwanted column permanent\n",
        "df.drop(\"customerID\",axis=1,inplace=True)"
      ],
      "execution_count": 14,
      "outputs": []
    },
    {
      "cell_type": "code",
      "metadata": {
        "id": "EHbUT_awK9-X"
      },
      "source": [
        "# separate all object features(columns) and numeric features (column)\n",
        "df_cat=df.select_dtypes('object')\n",
        "df_num=df.select_dtypes(['int64','float64'])"
      ],
      "execution_count": 15,
      "outputs": []
    },
    {
      "cell_type": "code",
      "metadata": {
        "colab": {
          "base_uri": "https://localhost:8080/"
        },
        "id": "9pq2K293LFeT",
        "outputId": "773bd849-fafb-4d4a-eeeb-1b9666acecdc"
      },
      "source": [
        "from sklearn.preprocessing import LabelEncoder\n",
        "#create the object of LabelEncoder class le\n",
        "le=LabelEncoder()\n",
        "for i in df_cat:\n",
        "    df_cat[i]=le.fit_transform(df_cat[i])"
      ],
      "execution_count": 16,
      "outputs": [
        {
          "output_type": "stream",
          "text": [
            "/usr/local/lib/python3.7/dist-packages/ipykernel_launcher.py:5: SettingWithCopyWarning: \n",
            "A value is trying to be set on a copy of a slice from a DataFrame.\n",
            "Try using .loc[row_indexer,col_indexer] = value instead\n",
            "\n",
            "See the caveats in the documentation: https://pandas.pydata.org/pandas-docs/stable/user_guide/indexing.html#returning-a-view-versus-a-copy\n",
            "  \"\"\"\n"
          ],
          "name": "stderr"
        }
      ]
    },
    {
      "cell_type": "code",
      "metadata": {
        "colab": {
          "base_uri": "https://localhost:8080/",
          "height": 224
        },
        "id": "vvS9glROLKcu",
        "outputId": "bcc1a45f-3093-4c46-9240-05ad53da3fb6"
      },
      "source": [
        "df_cat.head()"
      ],
      "execution_count": 17,
      "outputs": [
        {
          "output_type": "execute_result",
          "data": {
            "text/html": [
              "<div>\n",
              "<style scoped>\n",
              "    .dataframe tbody tr th:only-of-type {\n",
              "        vertical-align: middle;\n",
              "    }\n",
              "\n",
              "    .dataframe tbody tr th {\n",
              "        vertical-align: top;\n",
              "    }\n",
              "\n",
              "    .dataframe thead th {\n",
              "        text-align: right;\n",
              "    }\n",
              "</style>\n",
              "<table border=\"1\" class=\"dataframe\">\n",
              "  <thead>\n",
              "    <tr style=\"text-align: right;\">\n",
              "      <th></th>\n",
              "      <th>gender</th>\n",
              "      <th>Partner</th>\n",
              "      <th>Dependents</th>\n",
              "      <th>PhoneService</th>\n",
              "      <th>MultipleLines</th>\n",
              "      <th>InternetService</th>\n",
              "      <th>OnlineSecurity</th>\n",
              "      <th>OnlineBackup</th>\n",
              "      <th>DeviceProtection</th>\n",
              "      <th>TechSupport</th>\n",
              "      <th>StreamingTV</th>\n",
              "      <th>StreamingMovies</th>\n",
              "      <th>Contract</th>\n",
              "      <th>PaperlessBilling</th>\n",
              "      <th>PaymentMethod</th>\n",
              "      <th>Churn</th>\n",
              "    </tr>\n",
              "  </thead>\n",
              "  <tbody>\n",
              "    <tr>\n",
              "      <th>0</th>\n",
              "      <td>0</td>\n",
              "      <td>1</td>\n",
              "      <td>0</td>\n",
              "      <td>0</td>\n",
              "      <td>1</td>\n",
              "      <td>0</td>\n",
              "      <td>0</td>\n",
              "      <td>2</td>\n",
              "      <td>0</td>\n",
              "      <td>0</td>\n",
              "      <td>0</td>\n",
              "      <td>0</td>\n",
              "      <td>0</td>\n",
              "      <td>1</td>\n",
              "      <td>2</td>\n",
              "      <td>0</td>\n",
              "    </tr>\n",
              "    <tr>\n",
              "      <th>1</th>\n",
              "      <td>1</td>\n",
              "      <td>0</td>\n",
              "      <td>0</td>\n",
              "      <td>1</td>\n",
              "      <td>0</td>\n",
              "      <td>0</td>\n",
              "      <td>2</td>\n",
              "      <td>0</td>\n",
              "      <td>2</td>\n",
              "      <td>0</td>\n",
              "      <td>0</td>\n",
              "      <td>0</td>\n",
              "      <td>1</td>\n",
              "      <td>0</td>\n",
              "      <td>3</td>\n",
              "      <td>0</td>\n",
              "    </tr>\n",
              "    <tr>\n",
              "      <th>2</th>\n",
              "      <td>1</td>\n",
              "      <td>0</td>\n",
              "      <td>0</td>\n",
              "      <td>1</td>\n",
              "      <td>0</td>\n",
              "      <td>0</td>\n",
              "      <td>2</td>\n",
              "      <td>2</td>\n",
              "      <td>0</td>\n",
              "      <td>0</td>\n",
              "      <td>0</td>\n",
              "      <td>0</td>\n",
              "      <td>0</td>\n",
              "      <td>1</td>\n",
              "      <td>3</td>\n",
              "      <td>1</td>\n",
              "    </tr>\n",
              "    <tr>\n",
              "      <th>3</th>\n",
              "      <td>1</td>\n",
              "      <td>0</td>\n",
              "      <td>0</td>\n",
              "      <td>0</td>\n",
              "      <td>1</td>\n",
              "      <td>0</td>\n",
              "      <td>2</td>\n",
              "      <td>0</td>\n",
              "      <td>2</td>\n",
              "      <td>2</td>\n",
              "      <td>0</td>\n",
              "      <td>0</td>\n",
              "      <td>1</td>\n",
              "      <td>0</td>\n",
              "      <td>0</td>\n",
              "      <td>0</td>\n",
              "    </tr>\n",
              "    <tr>\n",
              "      <th>4</th>\n",
              "      <td>0</td>\n",
              "      <td>0</td>\n",
              "      <td>0</td>\n",
              "      <td>1</td>\n",
              "      <td>0</td>\n",
              "      <td>1</td>\n",
              "      <td>0</td>\n",
              "      <td>0</td>\n",
              "      <td>0</td>\n",
              "      <td>0</td>\n",
              "      <td>0</td>\n",
              "      <td>0</td>\n",
              "      <td>0</td>\n",
              "      <td>1</td>\n",
              "      <td>2</td>\n",
              "      <td>1</td>\n",
              "    </tr>\n",
              "  </tbody>\n",
              "</table>\n",
              "</div>"
            ],
            "text/plain": [
              "   gender  Partner  Dependents  ...  PaperlessBilling  PaymentMethod  Churn\n",
              "0       0        1           0  ...                 1              2      0\n",
              "1       1        0           0  ...                 0              3      0\n",
              "2       1        0           0  ...                 1              3      1\n",
              "3       1        0           0  ...                 0              0      0\n",
              "4       0        0           0  ...                 1              2      1\n",
              "\n",
              "[5 rows x 16 columns]"
            ]
          },
          "metadata": {
            "tags": []
          },
          "execution_count": 17
        }
      ]
    },
    {
      "cell_type": "code",
      "metadata": {
        "id": "tWP5pCOFLPOw"
      },
      "source": [
        "#to join both numeric and categorical dataframe in new dataframe df_new\n",
        "df_new=pd.concat([df_num,df_cat],axis=1)"
      ],
      "execution_count": 18,
      "outputs": []
    },
    {
      "cell_type": "code",
      "metadata": {
        "colab": {
          "base_uri": "https://localhost:8080/",
          "height": 224
        },
        "id": "hlKDPY2ULRy0",
        "outputId": "919494d1-61ea-4e78-c258-ea988213ff76"
      },
      "source": [
        "df_new.head()"
      ],
      "execution_count": 19,
      "outputs": [
        {
          "output_type": "execute_result",
          "data": {
            "text/html": [
              "<div>\n",
              "<style scoped>\n",
              "    .dataframe tbody tr th:only-of-type {\n",
              "        vertical-align: middle;\n",
              "    }\n",
              "\n",
              "    .dataframe tbody tr th {\n",
              "        vertical-align: top;\n",
              "    }\n",
              "\n",
              "    .dataframe thead th {\n",
              "        text-align: right;\n",
              "    }\n",
              "</style>\n",
              "<table border=\"1\" class=\"dataframe\">\n",
              "  <thead>\n",
              "    <tr style=\"text-align: right;\">\n",
              "      <th></th>\n",
              "      <th>SeniorCitizen</th>\n",
              "      <th>tenure</th>\n",
              "      <th>MonthlyCharges</th>\n",
              "      <th>TotalCharges</th>\n",
              "      <th>gender</th>\n",
              "      <th>Partner</th>\n",
              "      <th>Dependents</th>\n",
              "      <th>PhoneService</th>\n",
              "      <th>MultipleLines</th>\n",
              "      <th>InternetService</th>\n",
              "      <th>OnlineSecurity</th>\n",
              "      <th>OnlineBackup</th>\n",
              "      <th>DeviceProtection</th>\n",
              "      <th>TechSupport</th>\n",
              "      <th>StreamingTV</th>\n",
              "      <th>StreamingMovies</th>\n",
              "      <th>Contract</th>\n",
              "      <th>PaperlessBilling</th>\n",
              "      <th>PaymentMethod</th>\n",
              "      <th>Churn</th>\n",
              "    </tr>\n",
              "  </thead>\n",
              "  <tbody>\n",
              "    <tr>\n",
              "      <th>0</th>\n",
              "      <td>0</td>\n",
              "      <td>1</td>\n",
              "      <td>29.85</td>\n",
              "      <td>29.85</td>\n",
              "      <td>0</td>\n",
              "      <td>1</td>\n",
              "      <td>0</td>\n",
              "      <td>0</td>\n",
              "      <td>1</td>\n",
              "      <td>0</td>\n",
              "      <td>0</td>\n",
              "      <td>2</td>\n",
              "      <td>0</td>\n",
              "      <td>0</td>\n",
              "      <td>0</td>\n",
              "      <td>0</td>\n",
              "      <td>0</td>\n",
              "      <td>1</td>\n",
              "      <td>2</td>\n",
              "      <td>0</td>\n",
              "    </tr>\n",
              "    <tr>\n",
              "      <th>1</th>\n",
              "      <td>0</td>\n",
              "      <td>34</td>\n",
              "      <td>56.95</td>\n",
              "      <td>1889.50</td>\n",
              "      <td>1</td>\n",
              "      <td>0</td>\n",
              "      <td>0</td>\n",
              "      <td>1</td>\n",
              "      <td>0</td>\n",
              "      <td>0</td>\n",
              "      <td>2</td>\n",
              "      <td>0</td>\n",
              "      <td>2</td>\n",
              "      <td>0</td>\n",
              "      <td>0</td>\n",
              "      <td>0</td>\n",
              "      <td>1</td>\n",
              "      <td>0</td>\n",
              "      <td>3</td>\n",
              "      <td>0</td>\n",
              "    </tr>\n",
              "    <tr>\n",
              "      <th>2</th>\n",
              "      <td>0</td>\n",
              "      <td>2</td>\n",
              "      <td>53.85</td>\n",
              "      <td>108.15</td>\n",
              "      <td>1</td>\n",
              "      <td>0</td>\n",
              "      <td>0</td>\n",
              "      <td>1</td>\n",
              "      <td>0</td>\n",
              "      <td>0</td>\n",
              "      <td>2</td>\n",
              "      <td>2</td>\n",
              "      <td>0</td>\n",
              "      <td>0</td>\n",
              "      <td>0</td>\n",
              "      <td>0</td>\n",
              "      <td>0</td>\n",
              "      <td>1</td>\n",
              "      <td>3</td>\n",
              "      <td>1</td>\n",
              "    </tr>\n",
              "    <tr>\n",
              "      <th>3</th>\n",
              "      <td>0</td>\n",
              "      <td>45</td>\n",
              "      <td>42.30</td>\n",
              "      <td>1840.75</td>\n",
              "      <td>1</td>\n",
              "      <td>0</td>\n",
              "      <td>0</td>\n",
              "      <td>0</td>\n",
              "      <td>1</td>\n",
              "      <td>0</td>\n",
              "      <td>2</td>\n",
              "      <td>0</td>\n",
              "      <td>2</td>\n",
              "      <td>2</td>\n",
              "      <td>0</td>\n",
              "      <td>0</td>\n",
              "      <td>1</td>\n",
              "      <td>0</td>\n",
              "      <td>0</td>\n",
              "      <td>0</td>\n",
              "    </tr>\n",
              "    <tr>\n",
              "      <th>4</th>\n",
              "      <td>0</td>\n",
              "      <td>2</td>\n",
              "      <td>70.70</td>\n",
              "      <td>151.65</td>\n",
              "      <td>0</td>\n",
              "      <td>0</td>\n",
              "      <td>0</td>\n",
              "      <td>1</td>\n",
              "      <td>0</td>\n",
              "      <td>1</td>\n",
              "      <td>0</td>\n",
              "      <td>0</td>\n",
              "      <td>0</td>\n",
              "      <td>0</td>\n",
              "      <td>0</td>\n",
              "      <td>0</td>\n",
              "      <td>0</td>\n",
              "      <td>1</td>\n",
              "      <td>2</td>\n",
              "      <td>1</td>\n",
              "    </tr>\n",
              "  </tbody>\n",
              "</table>\n",
              "</div>"
            ],
            "text/plain": [
              "   SeniorCitizen  tenure  ...  PaymentMethod  Churn\n",
              "0              0       1  ...              2      0\n",
              "1              0      34  ...              3      0\n",
              "2              0       2  ...              3      1\n",
              "3              0      45  ...              0      0\n",
              "4              0       2  ...              2      1\n",
              "\n",
              "[5 rows x 20 columns]"
            ]
          },
          "metadata": {
            "tags": []
          },
          "execution_count": 19
        }
      ]
    },
    {
      "cell_type": "code",
      "metadata": {
        "id": "TnWVsFB6LUFf"
      },
      "source": [
        "#separate input features (independent variable)and output features(target)\n",
        "X=df_new.drop(\"Churn\",axis=1)\n",
        "Y=df_new[\"Churn\"]"
      ],
      "execution_count": 20,
      "outputs": []
    },
    {
      "cell_type": "code",
      "metadata": {
        "id": "hLRF7EO7LX-P"
      },
      "source": [
        "from sklearn.model_selection import train_test_split"
      ],
      "execution_count": 21,
      "outputs": []
    },
    {
      "cell_type": "code",
      "metadata": {
        "id": "9HTRVPBwLctf"
      },
      "source": [
        "X_train,X_test,Y_train,Y_test=train_test_split(X,Y,test_size=0.3,random_state=1)"
      ],
      "execution_count": 22,
      "outputs": []
    },
    {
      "cell_type": "code",
      "metadata": {
        "id": "yVKSRpOiLg6-"
      },
      "source": [
        "#caling apply on input data X_train and X_test \n",
        "#use StandardScaler class (formula z-score=X-mean(X)/std(X))\n",
        "from sklearn.preprocessing import StandardScaler"
      ],
      "execution_count": 23,
      "outputs": []
    },
    {
      "cell_type": "code",
      "metadata": {
        "id": "Mb7Z5L1sMKhm"
      },
      "source": [
        "#create object of StandardScaler class\n",
        "ss=StandardScaler()\n",
        "#scaling on training input data\n",
        "X_train=ss.fit_transform(X_train)\n",
        "X_test=ss.transform(X_test)"
      ],
      "execution_count": 24,
      "outputs": []
    },
    {
      "cell_type": "code",
      "metadata": {
        "colab": {
          "base_uri": "https://localhost:8080/"
        },
        "id": "gKJbYRabXk6X",
        "outputId": "74b07338-7a40-4f66-d939-e6894d457204"
      },
      "source": [
        "from imblearn.over_sampling import RandomOverSampler"
      ],
      "execution_count": 25,
      "outputs": [
        {
          "output_type": "stream",
          "text": [
            "/usr/local/lib/python3.7/dist-packages/sklearn/externals/six.py:31: FutureWarning: The module is deprecated in version 0.21 and will be removed in version 0.23 since we've dropped support for Python 2.7. Please rely on the official version of six (https://pypi.org/project/six/).\n",
            "  \"(https://pypi.org/project/six/).\", FutureWarning)\n",
            "/usr/local/lib/python3.7/dist-packages/sklearn/utils/deprecation.py:144: FutureWarning: The sklearn.neighbors.base module is  deprecated in version 0.22 and will be removed in version 0.24. The corresponding classes / functions should instead be imported from sklearn.neighbors. Anything that cannot be imported from sklearn.neighbors is now part of the private API.\n",
            "  warnings.warn(message, FutureWarning)\n"
          ],
          "name": "stderr"
        }
      ]
    },
    {
      "cell_type": "code",
      "metadata": {
        "id": "L0006LQUXvHY"
      },
      "source": [
        "#create object of  RandomOverSampler() class\n",
        "ros = RandomOverSampler()"
      ],
      "execution_count": 26,
      "outputs": []
    },
    {
      "cell_type": "code",
      "metadata": {
        "colab": {
          "base_uri": "https://localhost:8080/"
        },
        "id": "XrAdR3yOX9PQ",
        "outputId": "0c986f84-1cce-421e-a842-d3eb8dc0100c"
      },
      "source": [
        "pd.Series(Y_train).value_counts() #not apply Over sampler"
      ],
      "execution_count": 27,
      "outputs": [
        {
          "output_type": "execute_result",
          "data": {
            "text/plain": [
              "0    3589\n",
              "1    1341\n",
              "Name: Churn, dtype: int64"
            ]
          },
          "metadata": {
            "tags": []
          },
          "execution_count": 27
        }
      ]
    },
    {
      "cell_type": "code",
      "metadata": {
        "colab": {
          "base_uri": "https://localhost:8080/"
        },
        "id": "v4slDcDMYUtQ",
        "outputId": "d20a479a-4615-49cd-a2b1-bba7405779ec"
      },
      "source": [
        "X_sample1,Y_sample1 = ros.fit_sample(X_train,Y_train) "
      ],
      "execution_count": 28,
      "outputs": [
        {
          "output_type": "stream",
          "text": [
            "/usr/local/lib/python3.7/dist-packages/sklearn/utils/deprecation.py:87: FutureWarning: Function safe_indexing is deprecated; safe_indexing is deprecated in version 0.22 and will be removed in version 0.24.\n",
            "  warnings.warn(msg, category=FutureWarning)\n"
          ],
          "name": "stderr"
        }
      ]
    },
    {
      "cell_type": "code",
      "metadata": {
        "colab": {
          "base_uri": "https://localhost:8080/"
        },
        "id": "NSHFpdUJYh94",
        "outputId": "ae02ad74-a450-4b2c-8d3f-d7c8d895b8b4"
      },
      "source": [
        "pd.Series(Y_sample1).value_counts()"
      ],
      "execution_count": 29,
      "outputs": [
        {
          "output_type": "execute_result",
          "data": {
            "text/plain": [
              "1    3589\n",
              "0    3589\n",
              "dtype: int64"
            ]
          },
          "metadata": {
            "tags": []
          },
          "execution_count": 29
        }
      ]
    },
    {
      "cell_type": "code",
      "metadata": {
        "colab": {
          "base_uri": "https://localhost:8080/"
        },
        "id": "pyNyeIGtYog5",
        "outputId": "d5df10c4-0838-4e3c-80b7-b5b0fea5746f"
      },
      "source": [
        "pd.Series(Y_test).value_counts() #before over sampler"
      ],
      "execution_count": 30,
      "outputs": [
        {
          "output_type": "execute_result",
          "data": {
            "text/plain": [
              "0    1585\n",
              "1     528\n",
              "Name: Churn, dtype: int64"
            ]
          },
          "metadata": {
            "tags": []
          },
          "execution_count": 30
        }
      ]
    },
    {
      "cell_type": "code",
      "metadata": {
        "colab": {
          "base_uri": "https://localhost:8080/"
        },
        "id": "bewuzCo3Yv0T",
        "outputId": "83834070-1b08-4db7-de62-dc3f4b551f25"
      },
      "source": [
        "\n",
        "#applying over_sampler technique\n",
        "X_sample_test,Y_sample_test = ros.fit_sample(X_test,Y_test) "
      ],
      "execution_count": 31,
      "outputs": [
        {
          "output_type": "stream",
          "text": [
            "/usr/local/lib/python3.7/dist-packages/sklearn/utils/deprecation.py:87: FutureWarning: Function safe_indexing is deprecated; safe_indexing is deprecated in version 0.22 and will be removed in version 0.24.\n",
            "  warnings.warn(msg, category=FutureWarning)\n"
          ],
          "name": "stderr"
        }
      ]
    },
    {
      "cell_type": "code",
      "metadata": {
        "colab": {
          "base_uri": "https://localhost:8080/"
        },
        "id": "L0nu4mtmZBxM",
        "outputId": "19dd48c6-a308-4d6b-dff1-b36bda29fe4e"
      },
      "source": [
        "pd.Series(Y_sample_test).value_counts()"
      ],
      "execution_count": 32,
      "outputs": [
        {
          "output_type": "execute_result",
          "data": {
            "text/plain": [
              "1    1585\n",
              "0    1585\n",
              "dtype: int64"
            ]
          },
          "metadata": {
            "tags": []
          },
          "execution_count": 32
        }
      ]
    },
    {
      "cell_type": "code",
      "metadata": {
        "id": "0ZoytImkMNWg"
      },
      "source": [
        "model=tf.keras.Sequential([\n",
        "      tf.keras.layers.Dense(19,activation='relu',input_shape=(X.shape[1],)), #hidden layer1\n",
        "      tf.keras.layers.Dense(19,activation='relu'), #hidden layes2\n",
        "      tf.keras.layers.Dense(1,activation='sigmoid') #output layer\n",
        "])"
      ],
      "execution_count": 33,
      "outputs": []
    },
    {
      "cell_type": "code",
      "metadata": {
        "colab": {
          "base_uri": "https://localhost:8080/"
        },
        "id": "CF2pHNSyMZIf",
        "outputId": "d2758c57-c142-45e1-b6e3-e402e52dbeb8"
      },
      "source": [
        "X.shape[1]"
      ],
      "execution_count": 34,
      "outputs": [
        {
          "output_type": "execute_result",
          "data": {
            "text/plain": [
              "19"
            ]
          },
          "metadata": {
            "tags": []
          },
          "execution_count": 34
        }
      ]
    },
    {
      "cell_type": "code",
      "metadata": {
        "colab": {
          "base_uri": "https://localhost:8080/"
        },
        "id": "hE8TxcGqMhq5",
        "outputId": "251e8e41-eb9a-4f5d-aba7-cdbda2fe7e9f"
      },
      "source": [
        "#to show the summary of our model\n",
        "model.summary()"
      ],
      "execution_count": 35,
      "outputs": [
        {
          "output_type": "stream",
          "text": [
            "Model: \"sequential\"\n",
            "_________________________________________________________________\n",
            "Layer (type)                 Output Shape              Param #   \n",
            "=================================================================\n",
            "dense (Dense)                (None, 19)                380       \n",
            "_________________________________________________________________\n",
            "dense_1 (Dense)              (None, 19)                380       \n",
            "_________________________________________________________________\n",
            "dense_2 (Dense)              (None, 1)                 20        \n",
            "=================================================================\n",
            "Total params: 780\n",
            "Trainable params: 780\n",
            "Non-trainable params: 0\n",
            "_________________________________________________________________\n"
          ],
          "name": "stdout"
        }
      ]
    },
    {
      "cell_type": "code",
      "metadata": {
        "id": "N8ijFrv7MqxA"
      },
      "source": [
        "#compile the model\n",
        "model.compile(optimizer='sgd',loss='binary_crossentropy',metrics=['accuracy'])"
      ],
      "execution_count": 36,
      "outputs": []
    },
    {
      "cell_type": "code",
      "metadata": {
        "colab": {
          "base_uri": "https://localhost:8080/"
        },
        "id": "g94G9TCgMwdF",
        "outputId": "940d538f-fb84-4c27-9738-6fbd796cda71"
      },
      "source": [
        "#train the model\n",
        "trained_model=model.fit(X_sample1,Y_sample1,epochs=50)"
      ],
      "execution_count": 37,
      "outputs": [
        {
          "output_type": "stream",
          "text": [
            "Epoch 1/50\n",
            "225/225 [==============================] - 1s 1ms/step - loss: 0.6699 - accuracy: 0.5956\n",
            "Epoch 2/50\n",
            "225/225 [==============================] - 0s 1ms/step - loss: 0.5861 - accuracy: 0.7123\n",
            "Epoch 3/50\n",
            "225/225 [==============================] - 0s 1ms/step - loss: 0.5542 - accuracy: 0.7323\n",
            "Epoch 4/50\n",
            "225/225 [==============================] - 0s 1ms/step - loss: 0.5377 - accuracy: 0.7310\n",
            "Epoch 5/50\n",
            "225/225 [==============================] - 0s 1ms/step - loss: 0.5327 - accuracy: 0.7354\n",
            "Epoch 6/50\n",
            "225/225 [==============================] - 0s 1ms/step - loss: 0.5249 - accuracy: 0.7451\n",
            "Epoch 7/50\n",
            "225/225 [==============================] - 0s 1ms/step - loss: 0.5211 - accuracy: 0.7394\n",
            "Epoch 8/50\n",
            "225/225 [==============================] - 0s 1ms/step - loss: 0.5137 - accuracy: 0.7525\n",
            "Epoch 9/50\n",
            "225/225 [==============================] - 0s 1ms/step - loss: 0.4999 - accuracy: 0.7619\n",
            "Epoch 10/50\n",
            "225/225 [==============================] - 0s 1ms/step - loss: 0.5046 - accuracy: 0.7586\n",
            "Epoch 11/50\n",
            "225/225 [==============================] - 0s 1ms/step - loss: 0.5032 - accuracy: 0.7485\n",
            "Epoch 12/50\n",
            "225/225 [==============================] - 0s 1ms/step - loss: 0.4904 - accuracy: 0.7663\n",
            "Epoch 13/50\n",
            "225/225 [==============================] - 0s 1ms/step - loss: 0.4968 - accuracy: 0.7592\n",
            "Epoch 14/50\n",
            "225/225 [==============================] - 0s 1ms/step - loss: 0.4957 - accuracy: 0.7602\n",
            "Epoch 15/50\n",
            "225/225 [==============================] - 0s 1ms/step - loss: 0.4906 - accuracy: 0.7598\n",
            "Epoch 16/50\n",
            "225/225 [==============================] - 0s 1ms/step - loss: 0.4914 - accuracy: 0.7641\n",
            "Epoch 17/50\n",
            "225/225 [==============================] - 0s 1ms/step - loss: 0.4841 - accuracy: 0.7631\n",
            "Epoch 18/50\n",
            "225/225 [==============================] - 0s 1ms/step - loss: 0.4841 - accuracy: 0.7677\n",
            "Epoch 19/50\n",
            "225/225 [==============================] - 0s 1ms/step - loss: 0.4916 - accuracy: 0.7644\n",
            "Epoch 20/50\n",
            "225/225 [==============================] - 0s 1ms/step - loss: 0.4852 - accuracy: 0.7699\n",
            "Epoch 21/50\n",
            "225/225 [==============================] - 0s 1ms/step - loss: 0.4783 - accuracy: 0.7685\n",
            "Epoch 22/50\n",
            "225/225 [==============================] - 0s 1ms/step - loss: 0.5042 - accuracy: 0.7512\n",
            "Epoch 23/50\n",
            "225/225 [==============================] - 0s 1ms/step - loss: 0.4837 - accuracy: 0.7648\n",
            "Epoch 24/50\n",
            "225/225 [==============================] - 0s 1ms/step - loss: 0.4849 - accuracy: 0.7612\n",
            "Epoch 25/50\n",
            "225/225 [==============================] - 0s 1ms/step - loss: 0.4795 - accuracy: 0.7685\n",
            "Epoch 26/50\n",
            "225/225 [==============================] - 0s 1ms/step - loss: 0.4756 - accuracy: 0.7677\n",
            "Epoch 27/50\n",
            "225/225 [==============================] - 0s 1ms/step - loss: 0.4668 - accuracy: 0.7746\n",
            "Epoch 28/50\n",
            "225/225 [==============================] - 0s 1ms/step - loss: 0.4747 - accuracy: 0.7687\n",
            "Epoch 29/50\n",
            "225/225 [==============================] - 0s 1ms/step - loss: 0.4829 - accuracy: 0.7667\n",
            "Epoch 30/50\n",
            "225/225 [==============================] - 0s 1ms/step - loss: 0.4744 - accuracy: 0.7697\n",
            "Epoch 31/50\n",
            "225/225 [==============================] - 0s 1ms/step - loss: 0.4719 - accuracy: 0.7742\n",
            "Epoch 32/50\n",
            "225/225 [==============================] - 0s 1ms/step - loss: 0.4700 - accuracy: 0.7646\n",
            "Epoch 33/50\n",
            "225/225 [==============================] - 0s 1ms/step - loss: 0.4728 - accuracy: 0.7709\n",
            "Epoch 34/50\n",
            "225/225 [==============================] - 0s 1ms/step - loss: 0.4711 - accuracy: 0.7723\n",
            "Epoch 35/50\n",
            "225/225 [==============================] - 0s 1ms/step - loss: 0.4742 - accuracy: 0.7721\n",
            "Epoch 36/50\n",
            "225/225 [==============================] - 0s 1ms/step - loss: 0.4758 - accuracy: 0.7696\n",
            "Epoch 37/50\n",
            "225/225 [==============================] - 0s 1ms/step - loss: 0.4703 - accuracy: 0.7737\n",
            "Epoch 38/50\n",
            "225/225 [==============================] - 0s 1ms/step - loss: 0.4712 - accuracy: 0.7723\n",
            "Epoch 39/50\n",
            "225/225 [==============================] - 0s 1ms/step - loss: 0.4766 - accuracy: 0.7613\n",
            "Epoch 40/50\n",
            "225/225 [==============================] - 0s 1ms/step - loss: 0.4582 - accuracy: 0.7791\n",
            "Epoch 41/50\n",
            "225/225 [==============================] - 0s 1ms/step - loss: 0.4778 - accuracy: 0.7636\n",
            "Epoch 42/50\n",
            "225/225 [==============================] - 0s 1ms/step - loss: 0.4759 - accuracy: 0.7685\n",
            "Epoch 43/50\n",
            "225/225 [==============================] - 0s 1ms/step - loss: 0.4784 - accuracy: 0.7645\n",
            "Epoch 44/50\n",
            "225/225 [==============================] - 0s 1ms/step - loss: 0.4583 - accuracy: 0.7778\n",
            "Epoch 45/50\n",
            "225/225 [==============================] - 0s 1ms/step - loss: 0.4686 - accuracy: 0.7749\n",
            "Epoch 46/50\n",
            "225/225 [==============================] - 0s 1ms/step - loss: 0.4646 - accuracy: 0.7795\n",
            "Epoch 47/50\n",
            "225/225 [==============================] - 0s 1ms/step - loss: 0.4642 - accuracy: 0.7773\n",
            "Epoch 48/50\n",
            "225/225 [==============================] - 0s 1ms/step - loss: 0.4621 - accuracy: 0.7772\n",
            "Epoch 49/50\n",
            "225/225 [==============================] - 0s 1ms/step - loss: 0.4720 - accuracy: 0.7687\n",
            "Epoch 50/50\n",
            "225/225 [==============================] - 0s 1ms/step - loss: 0.4642 - accuracy: 0.7784\n"
          ],
          "name": "stdout"
        }
      ]
    },
    {
      "cell_type": "code",
      "metadata": {
        "id": "GObNtvcbM1FF"
      },
      "source": [
        "#predict means testing the model use inbuilt method predict()\n",
        "Y_pred=model.predict(X_sample_test)"
      ],
      "execution_count": 38,
      "outputs": []
    },
    {
      "cell_type": "code",
      "metadata": {
        "colab": {
          "base_uri": "https://localhost:8080/"
        },
        "id": "5-wIrjs2NIoD",
        "outputId": "82780ffe-655e-4159-ce3a-b9e4a76b359f"
      },
      "source": [
        "Y_pred"
      ],
      "execution_count": 39,
      "outputs": [
        {
          "output_type": "execute_result",
          "data": {
            "text/plain": [
              "array([[0.17077428],\n",
              "       [0.16955307],\n",
              "       [0.543763  ],\n",
              "       ...,\n",
              "       [0.6073891 ],\n",
              "       [0.43770176],\n",
              "       [0.8552922 ]], dtype=float32)"
            ]
          },
          "metadata": {
            "tags": []
          },
          "execution_count": 39
        }
      ]
    },
    {
      "cell_type": "code",
      "metadata": {
        "id": "-N2m8aBDNMcA"
      },
      "source": [
        "Y_pred=np.where(Y_pred>=0.5,1,0)"
      ],
      "execution_count": 40,
      "outputs": []
    },
    {
      "cell_type": "code",
      "metadata": {
        "id": "9O-L5o9BNS3m"
      },
      "source": [
        "#Evaluation of model using clasification_report inbuilt class\n",
        "from sklearn.metrics import classification_report"
      ],
      "execution_count": 41,
      "outputs": []
    },
    {
      "cell_type": "code",
      "metadata": {
        "colab": {
          "base_uri": "https://localhost:8080/"
        },
        "id": "XDwiL6SsNWHv",
        "outputId": "d89a33a6-7f0c-4655-a584-6dd95cd7b43f"
      },
      "source": [
        "print(classification_report(Y_sample_test,Y_pred))"
      ],
      "execution_count": 42,
      "outputs": [
        {
          "output_type": "stream",
          "text": [
            "              precision    recall  f1-score   support\n",
            "\n",
            "           0       0.80      0.74      0.77      1585\n",
            "           1       0.76      0.81      0.78      1585\n",
            "\n",
            "    accuracy                           0.78      3170\n",
            "   macro avg       0.78      0.78      0.78      3170\n",
            "weighted avg       0.78      0.78      0.78      3170\n",
            "\n"
          ],
          "name": "stdout"
        }
      ]
    },
    {
      "cell_type": "code",
      "metadata": {
        "id": "nwpG5lrLNZRa"
      },
      "source": [
        "#Using regularisaion technique"
      ],
      "execution_count": 43,
      "outputs": []
    },
    {
      "cell_type": "code",
      "metadata": {
        "id": "io53Xx6_xw-A"
      },
      "source": [
        "model1 = tf.keras.models.Sequential([\n",
        "\n",
        "    tf.keras.layers.Dense(19,input_shape=(X.shape[1],),activation=\"relu\"), #hidden layer1\n",
        "    tf.keras.layers.Dense(19,activation=\"relu\",kernel_regularizer = tf.keras.regularizers.l2(0.02)), #hidden layer2\n",
        "   \n",
        "    tf.keras.layers.Dense(19,activation=\"relu\",kernel_regularizer = tf.keras.regularizers.l2(0.02)), #hidden layer3\n",
        "    tf.keras.layers.Dense(1,activation=\"sigmoid\"), #output layer\n",
        "    #here 0.01 is the value of lambda /alpha means hyperparameter\n",
        "    #in ridge means L2= error or loss (RSS)+lambda*sum(squareof(all coef))\n",
        "\n",
        "\n",
        "])"
      ],
      "execution_count": 44,
      "outputs": []
    },
    {
      "cell_type": "code",
      "metadata": {
        "id": "X7UZLrHPyjza"
      },
      "source": [
        "# Compile the model\n",
        "model1.compile(optimizer=\"adam\",loss=\"binary_crossentropy\",metrics=['accuracy'])"
      ],
      "execution_count": 45,
      "outputs": []
    },
    {
      "cell_type": "code",
      "metadata": {
        "colab": {
          "base_uri": "https://localhost:8080/"
        },
        "id": "npMURAT5-pzp",
        "outputId": "9c44e162-99c0-4729-b534-3dd3722f7bc7"
      },
      "source": [
        "#train the model\n",
        "trained_model1=model1.fit(X_sample1,Y_sample1,batch_size=100,epochs=50)"
      ],
      "execution_count": 46,
      "outputs": [
        {
          "output_type": "stream",
          "text": [
            "Epoch 1/50\n",
            "72/72 [==============================] - 1s 2ms/step - loss: 1.3957 - accuracy: 0.5566\n",
            "Epoch 2/50\n",
            "72/72 [==============================] - 0s 2ms/step - loss: 1.0237 - accuracy: 0.7043\n",
            "Epoch 3/50\n",
            "72/72 [==============================] - 0s 2ms/step - loss: 0.8030 - accuracy: 0.7403\n",
            "Epoch 4/50\n",
            "72/72 [==============================] - 0s 1ms/step - loss: 0.6811 - accuracy: 0.7446\n",
            "Epoch 5/50\n",
            "72/72 [==============================] - 0s 2ms/step - loss: 0.6113 - accuracy: 0.7577\n",
            "Epoch 6/50\n",
            "72/72 [==============================] - 0s 1ms/step - loss: 0.5633 - accuracy: 0.7665\n",
            "Epoch 7/50\n",
            "72/72 [==============================] - 0s 1ms/step - loss: 0.5463 - accuracy: 0.7573\n",
            "Epoch 8/50\n",
            "72/72 [==============================] - 0s 2ms/step - loss: 0.5355 - accuracy: 0.7595\n",
            "Epoch 9/50\n",
            "72/72 [==============================] - 0s 2ms/step - loss: 0.5233 - accuracy: 0.7635\n",
            "Epoch 10/50\n",
            "72/72 [==============================] - 0s 2ms/step - loss: 0.5102 - accuracy: 0.7635\n",
            "Epoch 11/50\n",
            "72/72 [==============================] - 0s 2ms/step - loss: 0.5047 - accuracy: 0.7715\n",
            "Epoch 12/50\n",
            "72/72 [==============================] - 0s 2ms/step - loss: 0.5032 - accuracy: 0.7687\n",
            "Epoch 13/50\n",
            "72/72 [==============================] - 0s 1ms/step - loss: 0.5149 - accuracy: 0.7578\n",
            "Epoch 14/50\n",
            "72/72 [==============================] - 0s 2ms/step - loss: 0.5035 - accuracy: 0.7663\n",
            "Epoch 15/50\n",
            "72/72 [==============================] - 0s 1ms/step - loss: 0.4936 - accuracy: 0.7701\n",
            "Epoch 16/50\n",
            "72/72 [==============================] - 0s 1ms/step - loss: 0.4997 - accuracy: 0.7705\n",
            "Epoch 17/50\n",
            "72/72 [==============================] - 0s 1ms/step - loss: 0.5005 - accuracy: 0.7679\n",
            "Epoch 18/50\n",
            "72/72 [==============================] - 0s 1ms/step - loss: 0.4955 - accuracy: 0.7691\n",
            "Epoch 19/50\n",
            "72/72 [==============================] - 0s 2ms/step - loss: 0.4974 - accuracy: 0.7674\n",
            "Epoch 20/50\n",
            "72/72 [==============================] - 0s 1ms/step - loss: 0.4898 - accuracy: 0.7710\n",
            "Epoch 21/50\n",
            "72/72 [==============================] - 0s 2ms/step - loss: 0.4995 - accuracy: 0.7674\n",
            "Epoch 22/50\n",
            "72/72 [==============================] - 0s 2ms/step - loss: 0.4993 - accuracy: 0.7630\n",
            "Epoch 23/50\n",
            "72/72 [==============================] - 0s 2ms/step - loss: 0.4887 - accuracy: 0.7677\n",
            "Epoch 24/50\n",
            "72/72 [==============================] - 0s 1ms/step - loss: 0.4916 - accuracy: 0.7729\n",
            "Epoch 25/50\n",
            "72/72 [==============================] - 0s 2ms/step - loss: 0.4982 - accuracy: 0.7674\n",
            "Epoch 26/50\n",
            "72/72 [==============================] - 0s 2ms/step - loss: 0.4874 - accuracy: 0.7717\n",
            "Epoch 27/50\n",
            "72/72 [==============================] - 0s 2ms/step - loss: 0.5048 - accuracy: 0.7594\n",
            "Epoch 28/50\n",
            "72/72 [==============================] - 0s 2ms/step - loss: 0.4925 - accuracy: 0.7733\n",
            "Epoch 29/50\n",
            "72/72 [==============================] - 0s 1ms/step - loss: 0.5020 - accuracy: 0.7624\n",
            "Epoch 30/50\n",
            "72/72 [==============================] - 0s 2ms/step - loss: 0.4846 - accuracy: 0.7735\n",
            "Epoch 31/50\n",
            "72/72 [==============================] - 0s 1ms/step - loss: 0.4840 - accuracy: 0.7711\n",
            "Epoch 32/50\n",
            "72/72 [==============================] - 0s 2ms/step - loss: 0.4909 - accuracy: 0.7710\n",
            "Epoch 33/50\n",
            "72/72 [==============================] - 0s 1ms/step - loss: 0.4894 - accuracy: 0.7676\n",
            "Epoch 34/50\n",
            "72/72 [==============================] - 0s 1ms/step - loss: 0.4884 - accuracy: 0.7735\n",
            "Epoch 35/50\n",
            "72/72 [==============================] - 0s 2ms/step - loss: 0.4790 - accuracy: 0.7818\n",
            "Epoch 36/50\n",
            "72/72 [==============================] - 0s 2ms/step - loss: 0.4912 - accuracy: 0.7599\n",
            "Epoch 37/50\n",
            "72/72 [==============================] - 0s 2ms/step - loss: 0.4934 - accuracy: 0.7681\n",
            "Epoch 38/50\n",
            "72/72 [==============================] - 0s 1ms/step - loss: 0.4825 - accuracy: 0.7735\n",
            "Epoch 39/50\n",
            "72/72 [==============================] - 0s 2ms/step - loss: 0.4676 - accuracy: 0.7797\n",
            "Epoch 40/50\n",
            "72/72 [==============================] - 0s 2ms/step - loss: 0.4795 - accuracy: 0.7733\n",
            "Epoch 41/50\n",
            "72/72 [==============================] - 0s 2ms/step - loss: 0.4798 - accuracy: 0.7756\n",
            "Epoch 42/50\n",
            "72/72 [==============================] - 0s 1ms/step - loss: 0.4813 - accuracy: 0.7787\n",
            "Epoch 43/50\n",
            "72/72 [==============================] - 0s 1ms/step - loss: 0.4861 - accuracy: 0.7772\n",
            "Epoch 44/50\n",
            "72/72 [==============================] - 0s 1ms/step - loss: 0.4798 - accuracy: 0.7766\n",
            "Epoch 45/50\n",
            "72/72 [==============================] - 0s 2ms/step - loss: 0.4661 - accuracy: 0.7873\n",
            "Epoch 46/50\n",
            "72/72 [==============================] - 0s 1ms/step - loss: 0.4731 - accuracy: 0.7783\n",
            "Epoch 47/50\n",
            "72/72 [==============================] - 0s 2ms/step - loss: 0.4816 - accuracy: 0.7790\n",
            "Epoch 48/50\n",
            "72/72 [==============================] - 0s 1ms/step - loss: 0.4850 - accuracy: 0.7679\n",
            "Epoch 49/50\n",
            "72/72 [==============================] - 0s 1ms/step - loss: 0.4844 - accuracy: 0.7698\n",
            "Epoch 50/50\n",
            "72/72 [==============================] - 0s 1ms/step - loss: 0.4818 - accuracy: 0.7725\n"
          ],
          "name": "stdout"
        }
      ]
    },
    {
      "cell_type": "code",
      "metadata": {
        "id": "Imb17i8j-srX"
      },
      "source": [
        "#test the model\n",
        "Y_pred1=model1.predict(X_sample_test)"
      ],
      "execution_count": 47,
      "outputs": []
    },
    {
      "cell_type": "code",
      "metadata": {
        "id": "EPMlUqd0-zMv"
      },
      "source": [
        "Y_pred1=np.where(Y_pred1>=0.5,1,0)"
      ],
      "execution_count": 48,
      "outputs": []
    },
    {
      "cell_type": "code",
      "metadata": {
        "colab": {
          "base_uri": "https://localhost:8080/"
        },
        "id": "4976K6zE-3Kl",
        "outputId": "c57a58e9-f7f4-437a-8eb0-dcabd1064deb"
      },
      "source": [
        "print(classification_report(Y_sample_test,Y_pred1))"
      ],
      "execution_count": 49,
      "outputs": [
        {
          "output_type": "stream",
          "text": [
            "              precision    recall  f1-score   support\n",
            "\n",
            "           0       0.79      0.74      0.76      1585\n",
            "           1       0.76      0.81      0.78      1585\n",
            "\n",
            "    accuracy                           0.77      3170\n",
            "   macro avg       0.77      0.77      0.77      3170\n",
            "weighted avg       0.77      0.77      0.77      3170\n",
            "\n"
          ],
          "name": "stdout"
        }
      ]
    },
    {
      "cell_type": "code",
      "metadata": {
        "id": "jqzrLwAb-5G5"
      },
      "source": [
        "#Regularisdation - dropout "
      ],
      "execution_count": 50,
      "outputs": []
    },
    {
      "cell_type": "code",
      "metadata": {
        "id": "7TUH6C2o_Gww"
      },
      "source": [
        "#create a neural network\n",
        "model2 = tf.keras.models.Sequential([\n",
        "\n",
        "    tf.keras.layers.Dense(19,input_shape=(X.shape[1],),activation=\"relu\"), #hiddenlayer1\n",
        "    \n",
        "    tf.keras.layers.Dense(19,activation=\"relu\"),\n",
        "    tf.keras.layers.Dropout(0.3),\n",
        "    tf.keras.layers.Dense(19,activation=\"relu\"),\n",
        "    tf.keras.layers.Dropout(0.1),\n",
        "    tf.keras.layers.Dense(1,activation=\"sigmoid\"),\n",
        "\n",
        "\n",
        "])"
      ],
      "execution_count": 51,
      "outputs": []
    },
    {
      "cell_type": "code",
      "metadata": {
        "id": "SQ5JvmbK_O7j"
      },
      "source": [
        "#compile the model2\n",
        "model2.compile(optimizer='adam',loss='binary_crossentropy',metrics=['accuracy'])"
      ],
      "execution_count": 52,
      "outputs": []
    },
    {
      "cell_type": "code",
      "metadata": {
        "colab": {
          "base_uri": "https://localhost:8080/"
        },
        "id": "p_xzY3tg_SVu",
        "outputId": "882c559e-d4d1-42cd-d6cc-dbd1b529daf8"
      },
      "source": [
        "trained_model2=model2.fit(X_sample1,Y_sample1,batch_size=50,epochs=100)"
      ],
      "execution_count": 53,
      "outputs": [
        {
          "output_type": "stream",
          "text": [
            "Epoch 1/100\n",
            "144/144 [==============================] - 1s 1ms/step - loss: 0.6399 - accuracy: 0.6323\n",
            "Epoch 2/100\n",
            "144/144 [==============================] - 0s 2ms/step - loss: 0.5508 - accuracy: 0.7251\n",
            "Epoch 3/100\n",
            "144/144 [==============================] - 0s 2ms/step - loss: 0.5199 - accuracy: 0.7434\n",
            "Epoch 4/100\n",
            "144/144 [==============================] - 0s 1ms/step - loss: 0.5136 - accuracy: 0.7478\n",
            "Epoch 5/100\n",
            "144/144 [==============================] - 0s 1ms/step - loss: 0.5158 - accuracy: 0.7541\n",
            "Epoch 6/100\n",
            "144/144 [==============================] - 0s 1ms/step - loss: 0.4967 - accuracy: 0.7620\n",
            "Epoch 7/100\n",
            "144/144 [==============================] - 0s 1ms/step - loss: 0.4882 - accuracy: 0.7637\n",
            "Epoch 8/100\n",
            "144/144 [==============================] - 0s 2ms/step - loss: 0.4830 - accuracy: 0.7680\n",
            "Epoch 9/100\n",
            "144/144 [==============================] - 0s 1ms/step - loss: 0.4742 - accuracy: 0.7756\n",
            "Epoch 10/100\n",
            "144/144 [==============================] - 0s 1ms/step - loss: 0.4793 - accuracy: 0.7734\n",
            "Epoch 11/100\n",
            "144/144 [==============================] - 0s 1ms/step - loss: 0.4721 - accuracy: 0.7783\n",
            "Epoch 12/100\n",
            "144/144 [==============================] - 0s 1ms/step - loss: 0.4763 - accuracy: 0.7791\n",
            "Epoch 13/100\n",
            "144/144 [==============================] - 0s 2ms/step - loss: 0.4811 - accuracy: 0.7736\n",
            "Epoch 14/100\n",
            "144/144 [==============================] - 0s 2ms/step - loss: 0.4707 - accuracy: 0.7760\n",
            "Epoch 15/100\n",
            "144/144 [==============================] - 0s 1ms/step - loss: 0.4640 - accuracy: 0.7839\n",
            "Epoch 16/100\n",
            "144/144 [==============================] - 0s 1ms/step - loss: 0.4742 - accuracy: 0.7733\n",
            "Epoch 17/100\n",
            "144/144 [==============================] - 0s 1ms/step - loss: 0.4638 - accuracy: 0.7837\n",
            "Epoch 18/100\n",
            "144/144 [==============================] - 0s 2ms/step - loss: 0.4690 - accuracy: 0.7818\n",
            "Epoch 19/100\n",
            "144/144 [==============================] - 0s 1ms/step - loss: 0.4667 - accuracy: 0.7870\n",
            "Epoch 20/100\n",
            "144/144 [==============================] - 0s 2ms/step - loss: 0.4547 - accuracy: 0.7898\n",
            "Epoch 21/100\n",
            "144/144 [==============================] - 0s 1ms/step - loss: 0.4632 - accuracy: 0.7862\n",
            "Epoch 22/100\n",
            "144/144 [==============================] - 0s 1ms/step - loss: 0.4524 - accuracy: 0.7809\n",
            "Epoch 23/100\n",
            "144/144 [==============================] - 0s 1ms/step - loss: 0.4540 - accuracy: 0.7857\n",
            "Epoch 24/100\n",
            "144/144 [==============================] - 0s 1ms/step - loss: 0.4538 - accuracy: 0.7872\n",
            "Epoch 25/100\n",
            "144/144 [==============================] - 0s 1ms/step - loss: 0.4482 - accuracy: 0.7951\n",
            "Epoch 26/100\n",
            "144/144 [==============================] - 0s 1ms/step - loss: 0.4544 - accuracy: 0.7853\n",
            "Epoch 27/100\n",
            "144/144 [==============================] - 0s 1ms/step - loss: 0.4439 - accuracy: 0.7957\n",
            "Epoch 28/100\n",
            "144/144 [==============================] - 0s 2ms/step - loss: 0.4434 - accuracy: 0.8026\n",
            "Epoch 29/100\n",
            "144/144 [==============================] - 0s 1ms/step - loss: 0.4467 - accuracy: 0.7997\n",
            "Epoch 30/100\n",
            "144/144 [==============================] - 0s 1ms/step - loss: 0.4453 - accuracy: 0.7946\n",
            "Epoch 31/100\n",
            "144/144 [==============================] - 0s 1ms/step - loss: 0.4344 - accuracy: 0.8060\n",
            "Epoch 32/100\n",
            "144/144 [==============================] - 0s 2ms/step - loss: 0.4459 - accuracy: 0.7929\n",
            "Epoch 33/100\n",
            "144/144 [==============================] - 0s 1ms/step - loss: 0.4464 - accuracy: 0.7910\n",
            "Epoch 34/100\n",
            "144/144 [==============================] - 0s 1ms/step - loss: 0.4447 - accuracy: 0.7974\n",
            "Epoch 35/100\n",
            "144/144 [==============================] - 0s 1ms/step - loss: 0.4442 - accuracy: 0.7989\n",
            "Epoch 36/100\n",
            "144/144 [==============================] - 0s 1ms/step - loss: 0.4310 - accuracy: 0.8057\n",
            "Epoch 37/100\n",
            "144/144 [==============================] - 0s 2ms/step - loss: 0.4392 - accuracy: 0.7986\n",
            "Epoch 38/100\n",
            "144/144 [==============================] - 0s 1ms/step - loss: 0.4179 - accuracy: 0.8090\n",
            "Epoch 39/100\n",
            "144/144 [==============================] - 0s 1ms/step - loss: 0.4289 - accuracy: 0.8042\n",
            "Epoch 40/100\n",
            "144/144 [==============================] - 0s 1ms/step - loss: 0.4355 - accuracy: 0.7886\n",
            "Epoch 41/100\n",
            "144/144 [==============================] - 0s 2ms/step - loss: 0.4291 - accuracy: 0.8076\n",
            "Epoch 42/100\n",
            "144/144 [==============================] - 0s 1ms/step - loss: 0.4189 - accuracy: 0.8106\n",
            "Epoch 43/100\n",
            "144/144 [==============================] - 0s 1ms/step - loss: 0.4307 - accuracy: 0.8045\n",
            "Epoch 44/100\n",
            "144/144 [==============================] - 0s 1ms/step - loss: 0.4338 - accuracy: 0.7991\n",
            "Epoch 45/100\n",
            "144/144 [==============================] - 0s 1ms/step - loss: 0.4286 - accuracy: 0.8073\n",
            "Epoch 46/100\n",
            "144/144 [==============================] - 0s 2ms/step - loss: 0.4130 - accuracy: 0.8123\n",
            "Epoch 47/100\n",
            "144/144 [==============================] - 0s 1ms/step - loss: 0.4137 - accuracy: 0.8127\n",
            "Epoch 48/100\n",
            "144/144 [==============================] - 0s 1ms/step - loss: 0.4157 - accuracy: 0.8049\n",
            "Epoch 49/100\n",
            "144/144 [==============================] - 0s 1ms/step - loss: 0.4264 - accuracy: 0.8070\n",
            "Epoch 50/100\n",
            "144/144 [==============================] - 0s 2ms/step - loss: 0.4247 - accuracy: 0.8054\n",
            "Epoch 51/100\n",
            "144/144 [==============================] - 0s 2ms/step - loss: 0.4130 - accuracy: 0.8136\n",
            "Epoch 52/100\n",
            "144/144 [==============================] - 0s 1ms/step - loss: 0.4111 - accuracy: 0.8149\n",
            "Epoch 53/100\n",
            "144/144 [==============================] - 0s 2ms/step - loss: 0.4148 - accuracy: 0.8176\n",
            "Epoch 54/100\n",
            "144/144 [==============================] - 0s 1ms/step - loss: 0.4165 - accuracy: 0.8109\n",
            "Epoch 55/100\n",
            "144/144 [==============================] - 0s 2ms/step - loss: 0.4211 - accuracy: 0.8014\n",
            "Epoch 56/100\n",
            "144/144 [==============================] - 0s 2ms/step - loss: 0.4169 - accuracy: 0.8030\n",
            "Epoch 57/100\n",
            "144/144 [==============================] - 0s 1ms/step - loss: 0.4247 - accuracy: 0.8006\n",
            "Epoch 58/100\n",
            "144/144 [==============================] - 0s 2ms/step - loss: 0.4198 - accuracy: 0.8071\n",
            "Epoch 59/100\n",
            "144/144 [==============================] - 0s 2ms/step - loss: 0.4196 - accuracy: 0.8066\n",
            "Epoch 60/100\n",
            "144/144 [==============================] - 0s 2ms/step - loss: 0.4135 - accuracy: 0.8060\n",
            "Epoch 61/100\n",
            "144/144 [==============================] - 0s 1ms/step - loss: 0.4231 - accuracy: 0.8024\n",
            "Epoch 62/100\n",
            "144/144 [==============================] - 0s 1ms/step - loss: 0.4044 - accuracy: 0.8177\n",
            "Epoch 63/100\n",
            "144/144 [==============================] - 0s 1ms/step - loss: 0.4121 - accuracy: 0.8037\n",
            "Epoch 64/100\n",
            "144/144 [==============================] - 0s 2ms/step - loss: 0.4019 - accuracy: 0.8205\n",
            "Epoch 65/100\n",
            "144/144 [==============================] - 0s 1ms/step - loss: 0.4027 - accuracy: 0.8185\n",
            "Epoch 66/100\n",
            "144/144 [==============================] - 0s 1ms/step - loss: 0.4046 - accuracy: 0.8131\n",
            "Epoch 67/100\n",
            "144/144 [==============================] - 0s 1ms/step - loss: 0.3964 - accuracy: 0.8229\n",
            "Epoch 68/100\n",
            "144/144 [==============================] - 0s 1ms/step - loss: 0.4037 - accuracy: 0.8186\n",
            "Epoch 69/100\n",
            "144/144 [==============================] - 0s 2ms/step - loss: 0.3984 - accuracy: 0.8194\n",
            "Epoch 70/100\n",
            "144/144 [==============================] - 0s 2ms/step - loss: 0.4047 - accuracy: 0.8199\n",
            "Epoch 71/100\n",
            "144/144 [==============================] - 0s 2ms/step - loss: 0.4102 - accuracy: 0.8094\n",
            "Epoch 72/100\n",
            "144/144 [==============================] - 0s 1ms/step - loss: 0.4225 - accuracy: 0.8042\n",
            "Epoch 73/100\n",
            "144/144 [==============================] - 0s 2ms/step - loss: 0.4034 - accuracy: 0.8170\n",
            "Epoch 74/100\n",
            "144/144 [==============================] - 0s 1ms/step - loss: 0.4017 - accuracy: 0.8203\n",
            "Epoch 75/100\n",
            "144/144 [==============================] - 0s 1ms/step - loss: 0.4011 - accuracy: 0.8173\n",
            "Epoch 76/100\n",
            "144/144 [==============================] - 0s 2ms/step - loss: 0.4030 - accuracy: 0.8149\n",
            "Epoch 77/100\n",
            "144/144 [==============================] - 0s 1ms/step - loss: 0.3993 - accuracy: 0.8209\n",
            "Epoch 78/100\n",
            "144/144 [==============================] - 0s 2ms/step - loss: 0.3962 - accuracy: 0.8211\n",
            "Epoch 79/100\n",
            "144/144 [==============================] - 0s 1ms/step - loss: 0.4010 - accuracy: 0.8143\n",
            "Epoch 80/100\n",
            "144/144 [==============================] - 0s 1ms/step - loss: 0.4138 - accuracy: 0.8110\n",
            "Epoch 81/100\n",
            "144/144 [==============================] - 0s 1ms/step - loss: 0.4134 - accuracy: 0.8085\n",
            "Epoch 82/100\n",
            "144/144 [==============================] - 0s 1ms/step - loss: 0.4005 - accuracy: 0.8158\n",
            "Epoch 83/100\n",
            "144/144 [==============================] - 0s 2ms/step - loss: 0.3954 - accuracy: 0.8222\n",
            "Epoch 84/100\n",
            "144/144 [==============================] - 0s 1ms/step - loss: 0.4053 - accuracy: 0.8217\n",
            "Epoch 85/100\n",
            "144/144 [==============================] - 0s 1ms/step - loss: 0.4008 - accuracy: 0.8211\n",
            "Epoch 86/100\n",
            "144/144 [==============================] - 0s 2ms/step - loss: 0.3991 - accuracy: 0.8120\n",
            "Epoch 87/100\n",
            "144/144 [==============================] - 0s 2ms/step - loss: 0.3906 - accuracy: 0.8256\n",
            "Epoch 88/100\n",
            "144/144 [==============================] - 0s 2ms/step - loss: 0.3869 - accuracy: 0.8215\n",
            "Epoch 89/100\n",
            "144/144 [==============================] - 0s 2ms/step - loss: 0.3863 - accuracy: 0.8242\n",
            "Epoch 90/100\n",
            "144/144 [==============================] - 0s 1ms/step - loss: 0.3966 - accuracy: 0.8176\n",
            "Epoch 91/100\n",
            "144/144 [==============================] - 0s 2ms/step - loss: 0.4018 - accuracy: 0.8212\n",
            "Epoch 92/100\n",
            "144/144 [==============================] - 0s 2ms/step - loss: 0.3853 - accuracy: 0.8280\n",
            "Epoch 93/100\n",
            "144/144 [==============================] - 0s 2ms/step - loss: 0.3955 - accuracy: 0.8269\n",
            "Epoch 94/100\n",
            "144/144 [==============================] - 0s 2ms/step - loss: 0.3922 - accuracy: 0.8286\n",
            "Epoch 95/100\n",
            "144/144 [==============================] - 0s 2ms/step - loss: 0.4045 - accuracy: 0.8128\n",
            "Epoch 96/100\n",
            "144/144 [==============================] - 0s 2ms/step - loss: 0.3903 - accuracy: 0.8217\n",
            "Epoch 97/100\n",
            "144/144 [==============================] - 0s 1ms/step - loss: 0.3820 - accuracy: 0.8275\n",
            "Epoch 98/100\n",
            "144/144 [==============================] - 0s 2ms/step - loss: 0.3922 - accuracy: 0.8197\n",
            "Epoch 99/100\n",
            "144/144 [==============================] - 0s 1ms/step - loss: 0.3909 - accuracy: 0.8265\n",
            "Epoch 100/100\n",
            "144/144 [==============================] - 0s 1ms/step - loss: 0.3970 - accuracy: 0.8198\n"
          ],
          "name": "stdout"
        }
      ]
    },
    {
      "cell_type": "code",
      "metadata": {
        "id": "O7zStqi6_Ums"
      },
      "source": [
        "# model predict\n",
        "Y_pred2=model2.predict(X_sample_test)\n",
        "Y_pred2=np.where(Y_pred>=0.5,1,0)"
      ],
      "execution_count": 54,
      "outputs": []
    },
    {
      "cell_type": "code",
      "metadata": {
        "colab": {
          "base_uri": "https://localhost:8080/"
        },
        "id": "9hNEwu2z_ktA",
        "outputId": "bfa0273b-647e-49a4-af1f-a69b2af27bbc"
      },
      "source": [
        "print(classification_report(Y_sample_test,Y_pred2))"
      ],
      "execution_count": 55,
      "outputs": [
        {
          "output_type": "stream",
          "text": [
            "              precision    recall  f1-score   support\n",
            "\n",
            "           0       0.80      0.74      0.77      1585\n",
            "           1       0.76      0.81      0.78      1585\n",
            "\n",
            "    accuracy                           0.78      3170\n",
            "   macro avg       0.78      0.78      0.78      3170\n",
            "weighted avg       0.78      0.78      0.78      3170\n",
            "\n"
          ],
          "name": "stdout"
        }
      ]
    }
  ]
}